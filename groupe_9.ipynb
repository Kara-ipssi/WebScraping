{
 "cells": [
  {
   "cell_type": "code",
   "execution_count": 1,
   "metadata": {},
   "outputs": [
    {
     "name": "stdout",
     "output_type": "stream",
     "text": [
      "Error: scrapy.cfg already exists in /home/yannis/Projects/Ecole_IPSSI/2022-2023/WebScraping/Scrapy/WebScraping/MangaCrawler\r\n"
     ]
    }
   ],
   "source": [
    "# Création du dossier WebCrawler contenant l'ensemble des fichiers utiles au fonctionnement de scrapy\n",
    "!scrapy startproject MangaCrawler"
   ]
  },
  {
   "cell_type": "code",
   "execution_count": 9,
   "metadata": {},
   "outputs": [
    {
     "name": "stdout",
     "output_type": "stream",
     "text": [
      "Created spider 'mangascantrad' using template 'basic' in module:\n",
      "  MangaCrawler.spiders.mangascantrad\n"
     ]
    }
   ],
   "source": [
    "# ***************** création du projet Manga **********************\n",
    "\n",
    "!cd MangaCrawler && scrapy genspider mangascantrad https://manga-scantrad.net/"
   ]
  },
  {
   "cell_type": "code",
   "execution_count": null,
   "metadata": {},
   "outputs": [],
   "source": [
    "# ***************** Ajout au fichier items.py & Liste des données qui seront récupérés par manga *********\n",
    "\n",
    "class MangacrawlerItem(scrapy.Item):\n",
    "    # define the fields for your item here like:\n",
    "    title = scrapy.Field()\n",
    "    img = scrapy.Field()\n",
    "    rating = scrapy.Field()\n",
    "    last_chapter = scrapy.Field()\n",
    "    link = scrapy.Field()\n",
    "    genres = scrapy.Field()\n",
    "    published_date = scrapy.Field()\n",
    "    state = scrapy.Field()\n",
    "    nb_comments = scrapy.Field()\n",
    "    pass"
   ]
  },
  {
   "cell_type": "code",
   "execution_count": null,
   "metadata": {},
   "outputs": [],
   "source": [
    "# ***************** Liste des commandes********************\n",
    "\n",
    "#1. Le titre du premier manga\n",
    "\n",
    "#2. Le lien de l'image du premier manga\n",
    "\n",
    "#3. Le score du premier manga\n",
    "\n",
    "#4. Lenuméro du dernier chapitre du premier manga\n",
    "\n",
    "#5. Le lien de la page du premier manga\n",
    "\n",
    "#6. La date de publication du premier manga\n",
    "\n",
    "#7. L'état du premier manga\n",
    "\n",
    "#8. Le nombre de commentaires premier manga\n",
    "\n",
    "\n",
    "### Récupération des lien de chaque manga\n",
    "\n"
   ]
  },
  {
   "cell_type": "code",
   "execution_count": 14,
   "metadata": {},
   "outputs": [
    {
     "ename": "ModuleNotFoundError",
     "evalue": "No module named 'MangaCrawler.items'",
     "output_type": "error",
     "traceback": [
      "\u001b[0;31m---------------------------------------------------------------------------\u001b[0m",
      "\u001b[0;31mModuleNotFoundError\u001b[0m                       Traceback (most recent call last)",
      "Input \u001b[0;32mIn [14]\u001b[0m, in \u001b[0;36m<cell line: 4>\u001b[0;34m()\u001b[0m\n\u001b[1;32m      2\u001b[0m \u001b[38;5;28;01mimport\u001b[39;00m \u001b[38;5;21;01mscrapy\u001b[39;00m\n\u001b[1;32m      3\u001b[0m \u001b[38;5;28;01mfrom\u001b[39;00m \u001b[38;5;21;01mscrapy\u001b[39;00m \u001b[38;5;28;01mimport\u001b[39;00m Request\n\u001b[0;32m----> 4\u001b[0m \u001b[38;5;28;01mfrom\u001b[39;00m \u001b[38;5;21;01mMangaCrawler\u001b[39;00m\u001b[38;5;21;01m.\u001b[39;00m\u001b[38;5;21;01mitems\u001b[39;00m \u001b[38;5;28;01mimport\u001b[39;00m MangaGenres, MangacrawlerItem, DataBase\n\u001b[1;32m      5\u001b[0m \u001b[38;5;28;01mimport\u001b[39;00m \u001b[38;5;21;01msqlalchemy\u001b[39;00m \u001b[38;5;28;01mas\u001b[39;00m \u001b[38;5;21;01mdb\u001b[39;00m\n\u001b[1;32m      6\u001b[0m \u001b[38;5;28;01mfrom\u001b[39;00m \u001b[38;5;21;01msqlalchemy\u001b[39;00m\u001b[38;5;21;01m.\u001b[39;00m\u001b[38;5;21;01morm\u001b[39;00m \u001b[38;5;28;01mimport\u001b[39;00m declarative_base, relationship\n",
      "\u001b[0;31mModuleNotFoundError\u001b[0m: No module named 'MangaCrawler.items'"
     ]
    }
   ],
   "source": [
    "# La class MangascantradSpider\n",
    "import scrapy\n",
    "from scrapy import Request\n",
    "from MangaCrawler.items import MangaGenres, MangacrawlerItem, DataBase\n",
    "import sqlalchemy as db\n",
    "from sqlalchemy.orm import declarative_base, relationship\n",
    "\n",
    "class MangascantradSpider(scrapy.Spider):\n",
    "    name = 'mangascantrad'\n",
    "    allowed_domains = ['manga-scantrad.net']\n",
    "\n",
    "    # Liste des urls par pages\n",
    "    start_urls = [f'http://manga-scantrad.net/manga/page/{n}' for n in range(1, 31)]\n",
    "\n",
    "    # Création de la base de données\n",
    "    database = DataBase('database_manga')\n",
    "\n",
    "    # Creation des tables avec une relation ManyToMany\n",
    "    Base = declarative_base()\n",
    "    association_table = db.Table(\n",
    "        \"mangas_assoc_genres\",\n",
    "        Base.metadata,\n",
    "        db.Column(\"mangas_id\", db.ForeignKey(\"mangas.id_\")),\n",
    "        db.Column(\"mangas_genres_id\", db.ForeignKey(\"mangas_genres.id_\")),\n",
    "    )\n",
    "    database.create_table('mangas_genres',\n",
    "                          id_=db.Integer,\n",
    "                          name=db.String,\n",
    "                          )\n",
    "\n",
    "    database.create_table('mangas',\n",
    "                          id_=db.Integer,\n",
    "                          title=db.String,\n",
    "                          img=db.String,\n",
    "                          rating=db.String,\n",
    "                          last_chapter=db.String,\n",
    "                          link=db.String,\n",
    "                          genres=db.String,\n",
    "                          published_date=db.String,\n",
    "                          state=db.String,\n",
    "                          nb_comments=db.String,\n",
    "                          children=relationship(\"mangas_genres\", secondary=association_table)\n",
    "                          )\n",
    "\n",
    "    def start_requests(self):\n",
    "        print(\"iok\")\n",
    "        # for url in self.start_urls:\n",
    "        #     yield Request(url=url, callback=self.parse_manga)\n",
    "\n",
    "    def parse_manga(self, response):\n",
    "        mangas = response.css('div.js-categories-seasonal.js-block-list.list table tr')[1:]\n",
    "        for manga in mangas:\n",
    "            item = MangacrawlerItem()\n",
    "\n",
    "            # Nom manga\n",
    "            try:\n",
    "                item['name'] = manga.css('td')[1].css('a.hoverinfo_trigger.fw-b strong::text').get()\n",
    "            except:\n",
    "                item['name'] = 'None'\n",
    "\n",
    "            # Image manga\n",
    "            try:\n",
    "                item['img'] = manga.css('td')[0].css('a.hoverinfo_trigger img').attrib['data-src']\n",
    "            except:\n",
    "                item['img'] = 'None'\n",
    "\n",
    "            # Description manga\n",
    "            try:\n",
    "                item['description'] = manga.css('td')[1].css('div.pt4::text').get()\n",
    "            except:\n",
    "                item['description'] = 'None'\n",
    "\n",
    "            # Ajouter dans la base de données\n",
    "            self.database.add_row('manga',\n",
    "                                  name=item['name'],\n",
    "                                  img=item['img'],\n",
    "                                  description=item['description']\n",
    "                                  )\n",
    "            yield item\n",
    "\n"
   ]
  },
  {
   "cell_type": "code",
   "execution_count": 29,
   "metadata": {
    "scrolled": true
   },
   "outputs": [
    {
     "name": "stdout",
     "output_type": "stream",
     "text": [
      "*********Table : 'mangas_genres' are created succesfully************\n",
      "*********Table : 'mangas' are created succesfully************\n",
      "*********Table Relationship : 'mangas_assoc_genres' are created succesfully************\n",
      "2022-10-20 14:07:25 [scrapy.utils.log] INFO: Scrapy 2.7.0 started (bot: MangaCrawler)\n",
      "2022-10-20 14:07:25 [scrapy.utils.log] INFO: Versions: lxml 4.8.0.0, libxml2 2.9.12, cssselect 1.1.0, parsel 1.6.0, w3lib 2.0.1, Twisted 22.8.0, Python 3.9.2 (default, Feb 28 2021, 17:03:44) - [GCC 10.2.1 20210110], pyOpenSSL 22.1.0 (OpenSSL 3.0.5 5 Jul 2022), cryptography 38.0.1, Platform Linux-5.10.0-19-amd64-x86_64-with-glibc2.31\n",
      "2022-10-20 14:07:25 [scrapy.crawler] INFO: Overridden settings:\n",
      "{'BOT_NAME': 'MangaCrawler',\n",
      " 'NEWSPIDER_MODULE': 'MangaCrawler.spiders',\n",
      " 'ROBOTSTXT_OBEY': True,\n",
      " 'SPIDER_MODULES': ['MangaCrawler.spiders']}\n",
      "2022-10-20 14:07:25 [py.warnings] WARNING: /home/yannis/.local/lib/python3.9/site-packages/scrapy/utils/request.py:231: ScrapyDeprecationWarning: '2.6' is a deprecated value for the 'REQUEST_FINGERPRINTER_IMPLEMENTATION' setting.\n",
      "\n",
      "It is also the default value. In other words, it is normal to get this warning if you have not defined a value for the 'REQUEST_FINGERPRINTER_IMPLEMENTATION' setting. This is so for backward compatibility reasons, but it will change in a future version of Scrapy.\n",
      "\n",
      "See the documentation of the 'REQUEST_FINGERPRINTER_IMPLEMENTATION' setting for information on how to handle this deprecation.\n",
      "  return cls(crawler)\n",
      "\n",
      "2022-10-20 14:07:25 [scrapy.utils.log] DEBUG: Using reactor: twisted.internet.epollreactor.EPollReactor\n",
      "2022-10-20 14:07:25 [scrapy.extensions.telnet] INFO: Telnet Password: a5f9779b0d455048\n",
      "2022-10-20 14:07:25 [scrapy.middleware] INFO: Enabled extensions:\n",
      "['scrapy.extensions.corestats.CoreStats',\n",
      " 'scrapy.extensions.telnet.TelnetConsole',\n",
      " 'scrapy.extensions.memusage.MemoryUsage',\n",
      " 'scrapy.extensions.feedexport.FeedExporter',\n",
      " 'scrapy.extensions.logstats.LogStats']\n",
      "2022-10-20 14:07:25 [scrapy.middleware] INFO: Enabled downloader middlewares:\n",
      "['scrapy.downloadermiddlewares.robotstxt.RobotsTxtMiddleware',\n",
      " 'scrapy.downloadermiddlewares.httpauth.HttpAuthMiddleware',\n",
      " 'scrapy.downloadermiddlewares.downloadtimeout.DownloadTimeoutMiddleware',\n",
      " 'scrapy.downloadermiddlewares.defaultheaders.DefaultHeadersMiddleware',\n",
      " 'scrapy.downloadermiddlewares.useragent.UserAgentMiddleware',\n",
      " 'scrapy.downloadermiddlewares.retry.RetryMiddleware',\n",
      " 'scrapy.downloadermiddlewares.redirect.MetaRefreshMiddleware',\n",
      " 'scrapy.downloadermiddlewares.httpcompression.HttpCompressionMiddleware',\n",
      " 'scrapy.downloadermiddlewares.redirect.RedirectMiddleware',\n",
      " 'scrapy.downloadermiddlewares.cookies.CookiesMiddleware',\n",
      " 'scrapy.downloadermiddlewares.httpproxy.HttpProxyMiddleware',\n",
      " 'scrapy.downloadermiddlewares.stats.DownloaderStats']\n",
      "2022-10-20 14:07:25 [scrapy.middleware] INFO: Enabled spider middlewares:\n",
      "['scrapy.spidermiddlewares.httperror.HttpErrorMiddleware',\n",
      " 'scrapy.spidermiddlewares.offsite.OffsiteMiddleware',\n",
      " 'scrapy.spidermiddlewares.referer.RefererMiddleware',\n",
      " 'scrapy.spidermiddlewares.urllength.UrlLengthMiddleware',\n",
      " 'scrapy.spidermiddlewares.depth.DepthMiddleware']\n",
      "2022-10-20 14:07:25 [scrapy.middleware] INFO: Enabled item pipelines:\n",
      "[]\n",
      "iok\n",
      "Unhandled error in Deferred:\n",
      "2022-10-20 14:07:25 [twisted] CRITICAL: Unhandled error in Deferred:\n",
      "\n",
      "Traceback (most recent call last):\n",
      "  File \"/home/yannis/.local/lib/python3.9/site-packages/scrapy/crawler.py\", line 220, in crawl\n",
      "    return self._crawl(crawler, *args, **kwargs)\n",
      "  File \"/home/yannis/.local/lib/python3.9/site-packages/scrapy/crawler.py\", line 224, in _crawl\n",
      "    d = crawler.crawl(*args, **kwargs)\n",
      "  File \"/home/yannis/.local/lib/python3.9/site-packages/twisted/internet/defer.py\", line 1946, in unwindGenerator\n",
      "    return _cancellableInlineCallbacks(gen)\n",
      "  File \"/home/yannis/.local/lib/python3.9/site-packages/twisted/internet/defer.py\", line 1856, in _cancellableInlineCallbacks\n",
      "    _inlineCallbacks(None, gen, status, _copy_context())\n",
      "--- <exception caught here> ---\n",
      "  File \"/home/yannis/.local/lib/python3.9/site-packages/twisted/internet/defer.py\", line 1696, in _inlineCallbacks\n",
      "    result = context.run(gen.send, result)\n",
      "  File \"/home/yannis/.local/lib/python3.9/site-packages/scrapy/crawler.py\", line 117, in crawl\n",
      "    start_requests = iter(self.spider.start_requests())\n",
      "builtins.TypeError: 'NoneType' object is not iterable\n",
      "\n",
      "2022-10-20 14:07:25 [twisted] CRITICAL: \n",
      "Traceback (most recent call last):\n",
      "  File \"/home/yannis/.local/lib/python3.9/site-packages/twisted/internet/defer.py\", line 1696, in _inlineCallbacks\n",
      "    result = context.run(gen.send, result)\n",
      "  File \"/home/yannis/.local/lib/python3.9/site-packages/scrapy/crawler.py\", line 117, in crawl\n",
      "    start_requests = iter(self.spider.start_requests())\n",
      "TypeError: 'NoneType' object is not iterable\n"
     ]
    }
   ],
   "source": [
    "# Exécution de scrapy\n",
    "!cd MangaCrawler/MangaCrawler/spiders && scrapy crawl mangascantrad -o mangascantrad.csv"
   ]
  },
  {
   "cell_type": "code",
   "execution_count": null,
   "metadata": {},
   "outputs": [],
   "source": []
  },
  {
   "cell_type": "code",
   "execution_count": null,
   "metadata": {},
   "outputs": [],
   "source": []
  }
 ],
 "metadata": {
  "kernelspec": {
   "display_name": "Python 3 (ipykernel)",
   "language": "python",
   "name": "python3"
  },
  "language_info": {
   "codemirror_mode": {
    "name": "ipython",
    "version": 3
   },
   "file_extension": ".py",
   "mimetype": "text/x-python",
   "name": "python",
   "nbconvert_exporter": "python",
   "pygments_lexer": "ipython3",
   "version": "3.9.2"
  },
  "vscode": {
   "interpreter": {
    "hash": "aee8b7b246df8f9039afb4144a1f6fd8d2ca17a180786b69acc140d282b71a49"
   }
  }
 },
 "nbformat": 4,
 "nbformat_minor": 2
}
