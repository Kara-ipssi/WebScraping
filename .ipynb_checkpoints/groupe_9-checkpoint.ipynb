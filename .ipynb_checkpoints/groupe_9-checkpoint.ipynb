{
 "cells": [
  {
   "cell_type": "code",
   "execution_count": 5,
   "metadata": {},
   "outputs": [
    {
     "name": "stdout",
     "output_type": "stream",
     "text": [
      "New Scrapy project 'MangaCrawler', using template directory '/Library/Frameworks/Python.framework/Versions/3.9/lib/python3.9/site-packages/scrapy/templates/project', created in:\n",
      "    /Users/kara/Documents/Ipssi/WebScraping/TP/WebScraping/MangaCrawler\n",
      "\n",
      "You can start your first spider with:\n",
      "    cd MangaCrawler\n",
      "    scrapy genspider example example.com\n"
     ]
    }
   ],
   "source": [
    "# Création du dossier WebCrawler contenant l'ensemble des fichiers utiles au fonctionnement de scrapy\n",
    "!scrapy startproject MangaCrawler"
   ]
  },
  {
   "cell_type": "code",
   "execution_count": 9,
   "metadata": {},
   "outputs": [
    {
     "name": "stdout",
     "output_type": "stream",
     "text": [
      "Created spider 'mangascantrad' using template 'basic' in module:\n",
      "  MangaCrawler.spiders.mangascantrad\n"
     ]
    }
   ],
   "source": [
    "# création du projet Manga\n",
    "!cd MangaCrawler && scrapy genspider mangascantrad https://manga-scantrad.net/"
   ]
  },
  {
   "cell_type": "code",
   "execution_count": null,
   "metadata": {},
   "outputs": [],
   "source": []
  },
  {
   "cell_type": "code",
   "execution_count": null,
   "metadata": {},
   "outputs": [],
   "source": []
  }
 ],
 "metadata": {
  "kernelspec": {
   "display_name": "Python 3 (ipykernel)",
   "language": "python",
   "name": "python3"
  },
  "language_info": {
   "codemirror_mode": {
    "name": "ipython",
    "version": 3
   },
   "file_extension": ".py",
   "mimetype": "text/x-python",
   "name": "python",
   "nbconvert_exporter": "python",
   "pygments_lexer": "ipython3",
   "version": "3.9.2"
  },
  "vscode": {
   "interpreter": {
    "hash": "aee8b7b246df8f9039afb4144a1f6fd8d2ca17a180786b69acc140d282b71a49"
   }
  }
 },
 "nbformat": 4,
 "nbformat_minor": 2
}
