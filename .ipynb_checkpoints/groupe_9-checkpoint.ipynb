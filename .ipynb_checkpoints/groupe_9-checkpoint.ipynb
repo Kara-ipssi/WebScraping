{
 "cells": [
  {
   "cell_type": "code",
   "execution_count": 1,
   "metadata": {},
   "outputs": [
    {
     "name": "stdout",
     "output_type": "stream",
     "text": [
      "Error: scrapy.cfg already exists in /home/yannis/Projects/Ecole_IPSSI/2022-2023/WebScraping/Scrapy/WebScraping/MangaCrawler\r\n"
     ]
    }
   ],
   "source": [
    "# Création du dossier WebCrawler contenant l'ensemble des fichiers utiles au fonctionnement de scrapy\n",
    "!scrapy startproject MangaCrawler"
   ]
  },
  {
   "cell_type": "code",
   "execution_count": 9,
   "metadata": {},
   "outputs": [
    {
     "name": "stdout",
     "output_type": "stream",
     "text": [
      "Created spider 'mangascantrad' using template 'basic' in module:\n",
      "  MangaCrawler.spiders.mangascantrad\n"
     ]
    }
   ],
   "source": [
    "# ***************** création du projet Manga *********\n",
    "\n",
    "!cd MangaCrawler && scrapy genspider mangascantrad https://www.japscan.me/"
   ]
  },
  {
   "cell_type": "code",
   "execution_count": null,
   "metadata": {},
   "outputs": [],
   "source": [
    "# ***************** Ajout au fichier items.py & Liste des données qui seront récupérés par manga *********\n",
    "\n",
    "class MangacrawlerItem(scrapy.Item):\n",
    "    # define the fields for your item here like:\n",
    "    title = scrapy.Field()\n",
    "    img = scrapy.Field()\n",
    "    rating = scrapy.Field()\n",
    "    last_chapter = scrapy.Field()\n",
    "    link = scrapy.Field()\n",
    "    genres = scrapy.Field()\n",
    "    published_date = scrapy.Field()\n",
    "    state = scrapy.Field()\n",
    "    nb_comments = scrapy.Field()\n",
    "    pass"
   ]
  },
  {
   "cell_type": "code",
   "execution_count": null,
   "metadata": {},
   "outputs": [],
   "source": [
    "# ***************** Liste des commandes********************\n",
    "\n",
    "#1. Le titre du manga\n",
    "response.css('div#main div.card-body h1::text').get()\n",
    "\n",
    "#2. Le lien de l'image du manga\n",
    "response.css('div#main div.card-body img').attrib['src']\n",
    "\n",
    "#3. L'origine du manga\n",
    "response.css('div#main div.card-body p.mb-2')[1].css('span::text')[1].get()\n",
    "\n",
    "#4. La description du manga\n",
    "response.css('div#main div.card-body p.list-group-item.list-group-item-primary.text-justify::text').get()\n",
    "\n",
    "#5. Le dernier chapitre du manga\n",
    "response.css('div#chapters_list div.collapse.show div.chapters_list.text-truncate').get().split(':')[0].split('\\t')[-1]\n",
    "\n",
    "#5. Le lien de la page détail du manga\n",
    "response.request.url\n",
    "\n",
    "#8. Les genres du manga\n",
    "response.css('div#main div.card-body p.mb-2')[5].get().split('</span')[1].split('\\t')[7].strip()\n",
    "\n",
    "#6. Le type du manga\n",
    "response.css('div#main div.card-body p.mb-2')[4].get().split('</span')[1].split('\\t')[7].strip()\n",
    "\n",
    "#6. La date de publication du manga\n",
    "response.css('div#main div.card-body p.mb-2')[3].get().split('</span')[1].split('\\t')[7].strip()\n",
    "\n",
    "#7. L'état du manga\n",
    "response.css('div#main div.card-body p.mb-2')[2].get().split('</span')[1].split('\\t')[6].strip()\n"
   ]
  },
  {
   "cell_type": "code",
   "execution_count": 14,
   "metadata": {},
   "outputs": [
    {
     "ename": "ModuleNotFoundError",
     "evalue": "No module named 'MangaCrawler.items'",
     "output_type": "error",
     "traceback": [
      "\u001b[0;31m---------------------------------------------------------------------------\u001b[0m",
      "\u001b[0;31mModuleNotFoundError\u001b[0m                       Traceback (most recent call last)",
      "Input \u001b[0;32mIn [14]\u001b[0m, in \u001b[0;36m<cell line: 4>\u001b[0;34m()\u001b[0m\n\u001b[1;32m      2\u001b[0m \u001b[38;5;28;01mimport\u001b[39;00m \u001b[38;5;21;01mscrapy\u001b[39;00m\n\u001b[1;32m      3\u001b[0m \u001b[38;5;28;01mfrom\u001b[39;00m \u001b[38;5;21;01mscrapy\u001b[39;00m \u001b[38;5;28;01mimport\u001b[39;00m Request\n\u001b[0;32m----> 4\u001b[0m \u001b[38;5;28;01mfrom\u001b[39;00m \u001b[38;5;21;01mMangaCrawler\u001b[39;00m\u001b[38;5;21;01m.\u001b[39;00m\u001b[38;5;21;01mitems\u001b[39;00m \u001b[38;5;28;01mimport\u001b[39;00m MangaGenres, MangacrawlerItem, DataBase\n\u001b[1;32m      5\u001b[0m \u001b[38;5;28;01mimport\u001b[39;00m \u001b[38;5;21;01msqlalchemy\u001b[39;00m \u001b[38;5;28;01mas\u001b[39;00m \u001b[38;5;21;01mdb\u001b[39;00m\n\u001b[1;32m      6\u001b[0m \u001b[38;5;28;01mfrom\u001b[39;00m \u001b[38;5;21;01msqlalchemy\u001b[39;00m\u001b[38;5;21;01m.\u001b[39;00m\u001b[38;5;21;01morm\u001b[39;00m \u001b[38;5;28;01mimport\u001b[39;00m declarative_base, relationship\n",
      "\u001b[0;31mModuleNotFoundError\u001b[0m: No module named 'MangaCrawler.items'"
     ]
    }
   ],
   "source": [
    "# La class MangascantradSpider\n",
    "import scrapy\n",
    "from scrapy import Request\n",
    "from MangaCrawler.items import MangaGenres, MangacrawlerItem, DataBase\n",
    "import sqlalchemy as db\n",
    "from sqlalchemy.orm import declarative_base, relationship\n",
    "\n",
    "class MangascantradSpider(scrapy.Spider):\n",
    "    name = 'mangascantrad'\n",
    "    allowed_domains = ['manga-scantrad.net']\n",
    "\n",
    "    # Liste des urls par pages\n",
    "    start_urls = [f'http://manga-scantrad.net/manga/page/{n}' for n in range(1, 31)]\n",
    "\n",
    "    # Création de la base de données\n",
    "    database = DataBase('database_manga')\n",
    "\n",
    "    # Creation des tables avec une relation ManyToMany\n",
    "    Base = declarative_base()\n",
    "    association_table = db.Table(\n",
    "        \"mangas_assoc_genres\",\n",
    "        Base.metadata,\n",
    "        db.Column(\"mangas_id\", db.ForeignKey(\"mangas.id_\")),\n",
    "        db.Column(\"mangas_genres_id\", db.ForeignKey(\"mangas_genres.id_\")),\n",
    "    )\n",
    "    database.create_table('mangas_genres',\n",
    "                          id_=db.Integer,\n",
    "                          name=db.String,\n",
    "                          )\n",
    "\n",
    "    database.create_table('mangas',\n",
    "                          id_=db.Integer,\n",
    "                          title=db.String,\n",
    "                          img=db.String,\n",
    "                          rating=db.String,\n",
    "                          last_chapter=db.String,\n",
    "                          link=db.String,\n",
    "                          genres=db.String,\n",
    "                          published_date=db.String,\n",
    "                          state=db.String,\n",
    "                          nb_comments=db.String,\n",
    "                          children=relationship(\"mangas_genres\", secondary=association_table)\n",
    "                          )\n",
    "\n",
    "    def start_requests(self):\n",
    "        print(\"iok\")\n",
    "        # for url in self.start_urls:\n",
    "        #     yield Request(url=url, callback=self.parse_manga)\n",
    "\n",
    "    def parse_manga(self, response):\n",
    "        mangas = response.css('div.js-categories-seasonal.js-block-list.list table tr')[1:]\n",
    "        for manga in mangas:\n",
    "            item = MangacrawlerItem()\n",
    "\n",
    "            # Nom manga\n",
    "            try:\n",
    "                item['name'] = manga.css('td')[1].css('a.hoverinfo_trigger.fw-b strong::text').get()\n",
    "            except:\n",
    "                item['name'] = 'None'\n",
    "\n",
    "            # Image manga\n",
    "            try:\n",
    "                item['img'] = manga.css('td')[0].css('a.hoverinfo_trigger img').attrib['data-src']\n",
    "            except:\n",
    "                item['img'] = 'None'\n",
    "\n",
    "            # Description manga\n",
    "            try:\n",
    "                item['description'] = manga.css('td')[1].css('div.pt4::text').get()\n",
    "            except:\n",
    "                item['description'] = 'None'\n",
    "\n",
    "            # Ajouter dans la base de données\n",
    "            self.database.add_row('manga',\n",
    "                                  name=item['name'],\n",
    "                                  img=item['img'],\n",
    "                                  description=item['description']\n",
    "                                  )\n",
    "            yield item\n",
    "\n"
   ]
  },
  {
   "cell_type": "code",
   "execution_count": 27,
   "metadata": {
    "scrolled": true
   },
   "outputs": [
    {
     "name": "stdout",
     "output_type": "stream",
     "text": [
      "*********Table : 'mangas_types' are created succesfully************\n",
      "*********Table : 'mangas' are created succesfully************\n",
      "*********Table Relationship : 'mangas_assoc_types' are created succesfully************\n",
      "2022-10-20 17:44:31 [scrapy.utils.log] INFO: Scrapy 2.7.0 started (bot: MangaCrawler)\n",
      "2022-10-20 17:44:31 [scrapy.utils.log] INFO: Versions: lxml 4.8.0.0, libxml2 2.9.12, cssselect 1.1.0, parsel 1.6.0, w3lib 2.0.1, Twisted 22.8.0, Python 3.9.2 (default, Feb 28 2021, 17:03:44) - [GCC 10.2.1 20210110], pyOpenSSL 22.1.0 (OpenSSL 3.0.5 5 Jul 2022), cryptography 38.0.1, Platform Linux-5.10.0-19-amd64-x86_64-with-glibc2.31\n",
      "2022-10-20 17:44:31 [scrapy.crawler] INFO: Overridden settings:\n",
      "{'BOT_NAME': 'MangaCrawler',\n",
      " 'NEWSPIDER_MODULE': 'MangaCrawler.spiders',\n",
      " 'ROBOTSTXT_OBEY': True,\n",
      " 'SPIDER_MODULES': ['MangaCrawler.spiders']}\n",
      "2022-10-20 17:44:31 [py.warnings] WARNING: /home/yannis/.local/lib/python3.9/site-packages/scrapy/utils/request.py:231: ScrapyDeprecationWarning: '2.6' is a deprecated value for the 'REQUEST_FINGERPRINTER_IMPLEMENTATION' setting.\n",
      "\n",
      "It is also the default value. In other words, it is normal to get this warning if you have not defined a value for the 'REQUEST_FINGERPRINTER_IMPLEMENTATION' setting. This is so for backward compatibility reasons, but it will change in a future version of Scrapy.\n",
      "\n",
      "See the documentation of the 'REQUEST_FINGERPRINTER_IMPLEMENTATION' setting for information on how to handle this deprecation.\n",
      "  return cls(crawler)\n",
      "\n",
      "2022-10-20 17:44:31 [scrapy.utils.log] DEBUG: Using reactor: twisted.internet.epollreactor.EPollReactor\n",
      "2022-10-20 17:44:31 [scrapy.extensions.telnet] INFO: Telnet Password: df6dcd191a08870c\n",
      "2022-10-20 17:44:31 [scrapy.middleware] INFO: Enabled extensions:\n",
      "['scrapy.extensions.corestats.CoreStats',\n",
      " 'scrapy.extensions.telnet.TelnetConsole',\n",
      " 'scrapy.extensions.memusage.MemoryUsage',\n",
      " 'scrapy.extensions.feedexport.FeedExporter',\n",
      " 'scrapy.extensions.logstats.LogStats']\n",
      "2022-10-20 17:44:31 [scrapy.middleware] INFO: Enabled downloader middlewares:\n",
      "['scrapy.downloadermiddlewares.robotstxt.RobotsTxtMiddleware',\n",
      " 'scrapy.downloadermiddlewares.httpauth.HttpAuthMiddleware',\n",
      " 'scrapy.downloadermiddlewares.downloadtimeout.DownloadTimeoutMiddleware',\n",
      " 'scrapy.downloadermiddlewares.defaultheaders.DefaultHeadersMiddleware',\n",
      " 'scrapy.downloadermiddlewares.useragent.UserAgentMiddleware',\n",
      " 'scrapy.downloadermiddlewares.retry.RetryMiddleware',\n",
      " 'scrapy.downloadermiddlewares.redirect.MetaRefreshMiddleware',\n",
      " 'scrapy.downloadermiddlewares.httpcompression.HttpCompressionMiddleware',\n",
      " 'scrapy.downloadermiddlewares.redirect.RedirectMiddleware',\n",
      " 'scrapy.downloadermiddlewares.cookies.CookiesMiddleware',\n",
      " 'scrapy.downloadermiddlewares.httpproxy.HttpProxyMiddleware',\n",
      " 'scrapy.downloadermiddlewares.stats.DownloaderStats']\n",
      "2022-10-20 17:44:31 [scrapy.middleware] INFO: Enabled spider middlewares:\n",
      "['scrapy.spidermiddlewares.httperror.HttpErrorMiddleware',\n",
      " 'scrapy.spidermiddlewares.offsite.OffsiteMiddleware',\n",
      " 'scrapy.spidermiddlewares.referer.RefererMiddleware',\n",
      " 'scrapy.spidermiddlewares.urllength.UrlLengthMiddleware',\n",
      " 'scrapy.spidermiddlewares.depth.DepthMiddleware']\n",
      "2022-10-20 17:44:31 [scrapy.middleware] INFO: Enabled item pipelines:\n",
      "[]\n",
      "2022-10-20 17:44:31 [scrapy.core.engine] INFO: Spider opened\n",
      "2022-10-20 17:44:32 [scrapy.extensions.logstats] INFO: Crawled 0 pages (at 0 pages/min), scraped 0 items (at 0 items/min)\n",
      "2022-10-20 17:44:32 [scrapy.extensions.telnet] INFO: Telnet console listening on 127.0.0.1:6024\n",
      "2022-10-20 17:44:32 [scrapy.core.engine] DEBUG: Crawled (200) <GET https://www.japscan.me/robots.txt> (referer: None)\n",
      "2022-10-20 17:44:32 [scrapy.core.engine] DEBUG: Crawled (200) <GET https://www.japscan.me/mangas/1> (referer: None)\n",
      "2022-10-20 17:44:32 [scrapy.core.engine] DEBUG: Crawled (200) <GET https://www.japscan.me/mangas/8> (referer: None)\n",
      "2022-10-20 17:44:32 [scrapy.core.engine] DEBUG: Crawled (200) <GET https://www.japscan.me/mangas/3> (referer: None)\n",
      "2022-10-20 17:44:32 [scrapy.core.engine] DEBUG: Crawled (200) <GET https://www.japscan.me/mangas/4> (referer: None)\n",
      "2022-10-20 17:44:32 [scrapy.core.engine] DEBUG: Crawled (200) <GET https://www.japscan.me/mangas/7> (referer: None)\n",
      "2022-10-20 17:44:32 [scrapy.core.engine] DEBUG: Crawled (200) <GET https://www.japscan.me/mangas/5> (referer: None)\n",
      "2022-10-20 17:44:32 [scrapy.core.engine] DEBUG: Crawled (200) <GET https://www.japscan.me/mangas/6> (referer: None)\n",
      "2022-10-20 17:44:32 [scrapy.core.engine] DEBUG: Crawled (200) <GET https://www.japscan.me/mangas/2> (referer: None)\n",
      "2022-10-20 17:44:32 [scrapy.core.engine] DEBUG: Crawled (200) <GET https://www.japscan.me/mangas/9> (referer: None)\n",
      "2022-10-20 17:44:32 [scrapy.core.engine] DEBUG: Crawled (200) <GET https://www.japscan.me/mangas/10> (referer: None)\n",
      "2022-10-20 17:44:32 [scrapy.core.engine] INFO: Closing spider (finished)\n",
      "2022-10-20 17:44:32 [scrapy.statscollectors] INFO: Dumping Scrapy stats:\n",
      "{'downloader/request_bytes': 2445,\n",
      " 'downloader/request_count': 11,\n",
      " 'downloader/request_method_count/GET': 11,\n",
      " 'downloader/response_bytes': 76275,\n",
      " 'downloader/response_count': 11,\n",
      " 'downloader/response_status_count/200': 11,\n",
      " 'elapsed_time_seconds': 0.615703,\n",
      " 'finish_reason': 'finished',\n",
      " 'finish_time': datetime.datetime(2022, 10, 20, 15, 44, 32, 619708),\n",
      " 'httpcompression/response_bytes': 405377,\n",
      " 'httpcompression/response_count': 10,\n",
      " 'log_count/DEBUG': 12,\n",
      " 'log_count/INFO': 10,\n",
      " 'log_count/WARNING': 1,\n",
      " 'memusage/max': 117526528,\n",
      " 'memusage/startup': 117526528,\n",
      " 'response_received_count': 11,\n",
      " 'robotstxt/request_count': 1,\n",
      " 'robotstxt/response_count': 1,\n",
      " 'robotstxt/response_status_count/200': 1,\n",
      " 'scheduler/dequeued': 10,\n",
      " 'scheduler/dequeued/memory': 10,\n",
      " 'scheduler/enqueued': 10,\n",
      " 'scheduler/enqueued/memory': 10,\n",
      " 'start_time': datetime.datetime(2022, 10, 20, 15, 44, 32, 4005)}\n",
      "2022-10-20 17:44:32 [scrapy.core.engine] INFO: Spider closed (finished)\n"
     ]
    }
   ],
   "source": [
    "# Exécution de scrapy\n",
    "!cd MangaCrawler/MangaCrawler/spiders && scrapy crawl mangascantrad -o mangascantrad.csv"
   ]
  },
  {
   "cell_type": "code",
   "execution_count": 29,
   "metadata": {},
   "outputs": [
    {
     "ename": "EmptyDataError",
     "evalue": "No columns to parse from file",
     "output_type": "error",
     "traceback": [
      "\u001b[0;31m---------------------------------------------------------------------------\u001b[0m",
      "\u001b[0;31mEmptyDataError\u001b[0m                            Traceback (most recent call last)",
      "Input \u001b[0;32mIn [29]\u001b[0m, in \u001b[0;36m<cell line: 3>\u001b[0;34m()\u001b[0m\n\u001b[1;32m      1\u001b[0m \u001b[38;5;28;01mimport\u001b[39;00m \u001b[38;5;21;01mpandas\u001b[39;00m \u001b[38;5;28;01mas\u001b[39;00m \u001b[38;5;21;01mpd\u001b[39;00m\n\u001b[0;32m----> 3\u001b[0m df \u001b[38;5;241m=\u001b[39m \u001b[43mpd\u001b[49m\u001b[38;5;241;43m.\u001b[39;49m\u001b[43mread_csv\u001b[49m\u001b[43m(\u001b[49m\u001b[38;5;124;43m'\u001b[39;49m\u001b[38;5;124;43mMangaCrawler/MangaCrawler/spiders/mangascantrad.csv\u001b[39;49m\u001b[38;5;124;43m'\u001b[39;49m\u001b[43m)\u001b[49m\n\u001b[1;32m      4\u001b[0m df\n",
      "File \u001b[0;32m~/.local/lib/python3.9/site-packages/pandas/util/_decorators.py:311\u001b[0m, in \u001b[0;36mdeprecate_nonkeyword_arguments.<locals>.decorate.<locals>.wrapper\u001b[0;34m(*args, **kwargs)\u001b[0m\n\u001b[1;32m    305\u001b[0m \u001b[38;5;28;01mif\u001b[39;00m \u001b[38;5;28mlen\u001b[39m(args) \u001b[38;5;241m>\u001b[39m num_allow_args:\n\u001b[1;32m    306\u001b[0m     warnings\u001b[38;5;241m.\u001b[39mwarn(\n\u001b[1;32m    307\u001b[0m         msg\u001b[38;5;241m.\u001b[39mformat(arguments\u001b[38;5;241m=\u001b[39marguments),\n\u001b[1;32m    308\u001b[0m         \u001b[38;5;167;01mFutureWarning\u001b[39;00m,\n\u001b[1;32m    309\u001b[0m         stacklevel\u001b[38;5;241m=\u001b[39mstacklevel,\n\u001b[1;32m    310\u001b[0m     )\n\u001b[0;32m--> 311\u001b[0m \u001b[38;5;28;01mreturn\u001b[39;00m \u001b[43mfunc\u001b[49m\u001b[43m(\u001b[49m\u001b[38;5;241;43m*\u001b[39;49m\u001b[43margs\u001b[49m\u001b[43m,\u001b[49m\u001b[43m \u001b[49m\u001b[38;5;241;43m*\u001b[39;49m\u001b[38;5;241;43m*\u001b[39;49m\u001b[43mkwargs\u001b[49m\u001b[43m)\u001b[49m\n",
      "File \u001b[0;32m~/.local/lib/python3.9/site-packages/pandas/io/parsers/readers.py:678\u001b[0m, in \u001b[0;36mread_csv\u001b[0;34m(filepath_or_buffer, sep, delimiter, header, names, index_col, usecols, squeeze, prefix, mangle_dupe_cols, dtype, engine, converters, true_values, false_values, skipinitialspace, skiprows, skipfooter, nrows, na_values, keep_default_na, na_filter, verbose, skip_blank_lines, parse_dates, infer_datetime_format, keep_date_col, date_parser, dayfirst, cache_dates, iterator, chunksize, compression, thousands, decimal, lineterminator, quotechar, quoting, doublequote, escapechar, comment, encoding, encoding_errors, dialect, error_bad_lines, warn_bad_lines, on_bad_lines, delim_whitespace, low_memory, memory_map, float_precision, storage_options)\u001b[0m\n\u001b[1;32m    663\u001b[0m kwds_defaults \u001b[38;5;241m=\u001b[39m _refine_defaults_read(\n\u001b[1;32m    664\u001b[0m     dialect,\n\u001b[1;32m    665\u001b[0m     delimiter,\n\u001b[0;32m   (...)\u001b[0m\n\u001b[1;32m    674\u001b[0m     defaults\u001b[38;5;241m=\u001b[39m{\u001b[38;5;124m\"\u001b[39m\u001b[38;5;124mdelimiter\u001b[39m\u001b[38;5;124m\"\u001b[39m: \u001b[38;5;124m\"\u001b[39m\u001b[38;5;124m,\u001b[39m\u001b[38;5;124m\"\u001b[39m},\n\u001b[1;32m    675\u001b[0m )\n\u001b[1;32m    676\u001b[0m kwds\u001b[38;5;241m.\u001b[39mupdate(kwds_defaults)\n\u001b[0;32m--> 678\u001b[0m \u001b[38;5;28;01mreturn\u001b[39;00m \u001b[43m_read\u001b[49m\u001b[43m(\u001b[49m\u001b[43mfilepath_or_buffer\u001b[49m\u001b[43m,\u001b[49m\u001b[43m \u001b[49m\u001b[43mkwds\u001b[49m\u001b[43m)\u001b[49m\n",
      "File \u001b[0;32m~/.local/lib/python3.9/site-packages/pandas/io/parsers/readers.py:575\u001b[0m, in \u001b[0;36m_read\u001b[0;34m(filepath_or_buffer, kwds)\u001b[0m\n\u001b[1;32m    572\u001b[0m _validate_names(kwds\u001b[38;5;241m.\u001b[39mget(\u001b[38;5;124m\"\u001b[39m\u001b[38;5;124mnames\u001b[39m\u001b[38;5;124m\"\u001b[39m, \u001b[38;5;28;01mNone\u001b[39;00m))\n\u001b[1;32m    574\u001b[0m \u001b[38;5;66;03m# Create the parser.\u001b[39;00m\n\u001b[0;32m--> 575\u001b[0m parser \u001b[38;5;241m=\u001b[39m \u001b[43mTextFileReader\u001b[49m\u001b[43m(\u001b[49m\u001b[43mfilepath_or_buffer\u001b[49m\u001b[43m,\u001b[49m\u001b[43m \u001b[49m\u001b[38;5;241;43m*\u001b[39;49m\u001b[38;5;241;43m*\u001b[39;49m\u001b[43mkwds\u001b[49m\u001b[43m)\u001b[49m\n\u001b[1;32m    577\u001b[0m \u001b[38;5;28;01mif\u001b[39;00m chunksize \u001b[38;5;129;01mor\u001b[39;00m iterator:\n\u001b[1;32m    578\u001b[0m     \u001b[38;5;28;01mreturn\u001b[39;00m parser\n",
      "File \u001b[0;32m~/.local/lib/python3.9/site-packages/pandas/io/parsers/readers.py:932\u001b[0m, in \u001b[0;36mTextFileReader.__init__\u001b[0;34m(self, f, engine, **kwds)\u001b[0m\n\u001b[1;32m    929\u001b[0m     \u001b[38;5;28mself\u001b[39m\u001b[38;5;241m.\u001b[39moptions[\u001b[38;5;124m\"\u001b[39m\u001b[38;5;124mhas_index_names\u001b[39m\u001b[38;5;124m\"\u001b[39m] \u001b[38;5;241m=\u001b[39m kwds[\u001b[38;5;124m\"\u001b[39m\u001b[38;5;124mhas_index_names\u001b[39m\u001b[38;5;124m\"\u001b[39m]\n\u001b[1;32m    931\u001b[0m \u001b[38;5;28mself\u001b[39m\u001b[38;5;241m.\u001b[39mhandles: IOHandles \u001b[38;5;241m|\u001b[39m \u001b[38;5;28;01mNone\u001b[39;00m \u001b[38;5;241m=\u001b[39m \u001b[38;5;28;01mNone\u001b[39;00m\n\u001b[0;32m--> 932\u001b[0m \u001b[38;5;28mself\u001b[39m\u001b[38;5;241m.\u001b[39m_engine \u001b[38;5;241m=\u001b[39m \u001b[38;5;28;43mself\u001b[39;49m\u001b[38;5;241;43m.\u001b[39;49m\u001b[43m_make_engine\u001b[49m\u001b[43m(\u001b[49m\u001b[43mf\u001b[49m\u001b[43m,\u001b[49m\u001b[43m \u001b[49m\u001b[38;5;28;43mself\u001b[39;49m\u001b[38;5;241;43m.\u001b[39;49m\u001b[43mengine\u001b[49m\u001b[43m)\u001b[49m\n",
      "File \u001b[0;32m~/.local/lib/python3.9/site-packages/pandas/io/parsers/readers.py:1234\u001b[0m, in \u001b[0;36mTextFileReader._make_engine\u001b[0;34m(self, f, engine)\u001b[0m\n\u001b[1;32m   1231\u001b[0m     \u001b[38;5;28;01mraise\u001b[39;00m \u001b[38;5;167;01mValueError\u001b[39;00m(msg)\n\u001b[1;32m   1233\u001b[0m \u001b[38;5;28;01mtry\u001b[39;00m:\n\u001b[0;32m-> 1234\u001b[0m     \u001b[38;5;28;01mreturn\u001b[39;00m \u001b[43mmapping\u001b[49m\u001b[43m[\u001b[49m\u001b[43mengine\u001b[49m\u001b[43m]\u001b[49m\u001b[43m(\u001b[49m\u001b[43mf\u001b[49m\u001b[43m,\u001b[49m\u001b[43m \u001b[49m\u001b[38;5;241;43m*\u001b[39;49m\u001b[38;5;241;43m*\u001b[39;49m\u001b[38;5;28;43mself\u001b[39;49m\u001b[38;5;241;43m.\u001b[39;49m\u001b[43moptions\u001b[49m\u001b[43m)\u001b[49m\n\u001b[1;32m   1235\u001b[0m \u001b[38;5;28;01mexcept\u001b[39;00m \u001b[38;5;167;01mException\u001b[39;00m:\n\u001b[1;32m   1236\u001b[0m     \u001b[38;5;28;01mif\u001b[39;00m \u001b[38;5;28mself\u001b[39m\u001b[38;5;241m.\u001b[39mhandles \u001b[38;5;129;01mis\u001b[39;00m \u001b[38;5;129;01mnot\u001b[39;00m \u001b[38;5;28;01mNone\u001b[39;00m:\n",
      "File \u001b[0;32m~/.local/lib/python3.9/site-packages/pandas/io/parsers/c_parser_wrapper.py:75\u001b[0m, in \u001b[0;36mCParserWrapper.__init__\u001b[0;34m(self, src, **kwds)\u001b[0m\n\u001b[1;32m     72\u001b[0m     kwds\u001b[38;5;241m.\u001b[39mpop(key, \u001b[38;5;28;01mNone\u001b[39;00m)\n\u001b[1;32m     74\u001b[0m kwds[\u001b[38;5;124m\"\u001b[39m\u001b[38;5;124mdtype\u001b[39m\u001b[38;5;124m\"\u001b[39m] \u001b[38;5;241m=\u001b[39m ensure_dtype_objs(kwds\u001b[38;5;241m.\u001b[39mget(\u001b[38;5;124m\"\u001b[39m\u001b[38;5;124mdtype\u001b[39m\u001b[38;5;124m\"\u001b[39m, \u001b[38;5;28;01mNone\u001b[39;00m))\n\u001b[0;32m---> 75\u001b[0m \u001b[38;5;28mself\u001b[39m\u001b[38;5;241m.\u001b[39m_reader \u001b[38;5;241m=\u001b[39m \u001b[43mparsers\u001b[49m\u001b[38;5;241;43m.\u001b[39;49m\u001b[43mTextReader\u001b[49m\u001b[43m(\u001b[49m\u001b[43msrc\u001b[49m\u001b[43m,\u001b[49m\u001b[43m \u001b[49m\u001b[38;5;241;43m*\u001b[39;49m\u001b[38;5;241;43m*\u001b[39;49m\u001b[43mkwds\u001b[49m\u001b[43m)\u001b[49m\n\u001b[1;32m     77\u001b[0m \u001b[38;5;28mself\u001b[39m\u001b[38;5;241m.\u001b[39munnamed_cols \u001b[38;5;241m=\u001b[39m \u001b[38;5;28mself\u001b[39m\u001b[38;5;241m.\u001b[39m_reader\u001b[38;5;241m.\u001b[39munnamed_cols\n\u001b[1;32m     79\u001b[0m \u001b[38;5;66;03m# error: Cannot determine type of 'names'\u001b[39;00m\n",
      "File \u001b[0;32m~/.local/lib/python3.9/site-packages/pandas/_libs/parsers.pyx:551\u001b[0m, in \u001b[0;36mpandas._libs.parsers.TextReader.__cinit__\u001b[0;34m()\u001b[0m\n",
      "\u001b[0;31mEmptyDataError\u001b[0m: No columns to parse from file"
     ]
    }
   ],
   "source": [
    "# ***************** Afficher les données csv avec pandas *******************\n",
    "\n",
    "import pandas as pd\n",
    "\n",
    "df = pd.read_csv('MangaCrawler/MangaCrawler/spiders/mangascantrad.csv')\n",
    "df"
   ]
  },
  {
   "cell_type": "code",
   "execution_count": null,
   "metadata": {},
   "outputs": [],
   "source": []
  }
 ],
 "metadata": {
  "kernelspec": {
   "display_name": "Python 3 (ipykernel)",
   "language": "python",
   "name": "python3"
  },
  "language_info": {
   "codemirror_mode": {
    "name": "ipython",
    "version": 3
   },
   "file_extension": ".py",
   "mimetype": "text/x-python",
   "name": "python",
   "nbconvert_exporter": "python",
   "pygments_lexer": "ipython3",
   "version": "3.9.2"
  },
  "vscode": {
   "interpreter": {
    "hash": "aee8b7b246df8f9039afb4144a1f6fd8d2ca17a180786b69acc140d282b71a49"
   }
  }
 },
 "nbformat": 4,
 "nbformat_minor": 2
}
